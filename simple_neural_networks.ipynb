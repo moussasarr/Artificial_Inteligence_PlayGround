#Importing tensorflow and keras layers
import tensorflow as tf
from tensorflow.keras import layers

#Checking that tensorlow and keras are loaded
print(tf.__version__)
print(tf.keras.__version__)

"""
   Building a simple, untrained, fully-connected neural network, 
   aka multi-layer perceptron
   of 10 outputs, with a rectifier activation functions for the hidden layers, 
   and a softmax to normalize output. This is an untrained
"""
model = tf.keras.Sequential()

# Add a densely connected layer of 64-units with a rectifier activation function
model.add(layers.Dense(64, activation= 'relu'))

#adding another similar 64-unit hidden layer
model.add(layers.Dense(64, activation= 'relu'))

#adding a normalized output of 10 outputs
model.add(layers.Dense(10, activation= 'softmax'))
