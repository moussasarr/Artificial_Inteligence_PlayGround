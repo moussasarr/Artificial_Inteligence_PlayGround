{
  "nbformat": 4,
  "nbformat_minor": 0,
  "metadata": {
    "colab": {
      "name": "simple_neural_networks.ipynb",
      "version": "0.3.2",
      "provenance": [],
      "include_colab_link": true
    },
    "kernelspec": {
      "name": "python3",
      "display_name": "Python 3"
    }
  },
  "cells": [
    {
      "cell_type": "markdown",
      "metadata": {
        "id": "view-in-github",
        "colab_type": "text"
      },
      "source": [
        "<a href=\"https://colab.research.google.com/github/moussasarr/Artificial_Inteligence_PlayGround/blob/master/simple_neural_networks.ipynb\" target=\"_parent\"><img src=\"https://colab.research.google.com/assets/colab-badge.svg\" alt=\"Open In Colab\"/></a>"
      ]
    },
    {
      "metadata": {
        "id": "ddzCJqOpBCaW",
        "colab_type": "code",
        "colab": {}
      },
      "cell_type": "code",
      "source": [
        "!pip install -q pyyaml"
      ],
      "execution_count": 0,
      "outputs": []
    },
    {
      "metadata": {
        "id": "hOzXF7sSpn9R",
        "colab_type": "code",
        "colab": {
          "base_uri": "https://localhost:8080/",
          "height": 52
        },
        "outputId": "d9332784-a2e7-4ba9-e351-7a2b3d85299f"
      },
      "cell_type": "code",
      "source": [
        "#Importing tensorflow and keras layers\n",
        "import tensorflow as tf\n",
        "from tensorflow.keras import layers\n",
        "\n",
        "#Checking that tensorlow and keras are loaded\n",
        "print(tf.__version__)\n",
        "print(tf.keras.__version__)"
      ],
      "execution_count": 6,
      "outputs": [
        {
          "output_type": "stream",
          "text": [
            "1.13.1\n",
            "2.2.4-tf\n"
          ],
          "name": "stdout"
        }
      ]
    },
    {
      "metadata": {
        "id": "8acurR4mOJAh",
        "colab_type": "text"
      },
      "cell_type": "markdown",
      "source": [
        ""
      ]
    },
    {
      "metadata": {
        "id": "byMIZ-FTFm_k",
        "colab_type": "code",
        "colab": {}
      },
      "cell_type": "code",
      "source": [
        "\"\"\"\n",
        "   Building a simple, untrained, fully-connected neural network, \n",
        "   aka multi-layer perceptron\n",
        "   of 10 outputs, with a rectifier activation functions for the hidden layers, \n",
        "   and a softmax to normalize output. This is an untrained\n",
        "\"\"\"\n",
        "model = tf.keras.Sequential()\n",
        "\n",
        "# Add a densely connected layer of 64-units with a rectifier activation function\n",
        "model.add(layers.Dense(64, activation= 'relu'))\n",
        "\n",
        "#adding another similar 64-unit hidden layer\n",
        "model.add(layers.Dense(64, activation= 'relu'))\n",
        "\n",
        "#adding a normalized output of 10 outputs\n",
        "model.add(layers.Dense(10, activation= 'softmax'))"
      ],
      "execution_count": 0,
      "outputs": []
    },
    {
      "metadata": {
        "id": "JU7hmHvmSejJ",
        "colab_type": "code",
        "colab": {}
      },
      "cell_type": "code",
      "source": [
        ""
      ],
      "execution_count": 0,
      "outputs": []
    },
    {
      "metadata": {
        "id": "LIKr6gtbOALy",
        "colab_type": "code",
        "colab": {}
      },
      "cell_type": "code",
      "source": [
        ""
      ],
      "execution_count": 0,
      "outputs": []
    }
  ]
}